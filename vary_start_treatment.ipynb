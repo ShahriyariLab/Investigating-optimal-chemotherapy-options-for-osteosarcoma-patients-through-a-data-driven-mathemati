{
 "cells": [
  {
   "cell_type": "code",
   "execution_count": 1,
   "metadata": {},
   "outputs": [],
   "source": [
    "from qspmodel import *\n",
    "from chemo_qspmodel import *\n",
    "import pandas as pd\n",
    "import csv\n",
    "import os\n",
    "import scipy as sp\n",
    "\n",
    "clustercells = pd.read_csv('input/TARGET_steady_states.csv')\n",
    "clustercells.drop('Unnamed: 0', axis=1, inplace=True)\n",
    "clustercells = clustercells.to_numpy()\n",
    "\n",
    "meanvals = pd.read_csv('input/TARGET_avg_by_cluster.csv')\n",
    "meanvals.drop('Unnamed: 0', axis=1, inplace=True)\n",
    "meanvals = meanvals.to_numpy()"
   ]
  },
  {
   "cell_type": "code",
   "execution_count": 2,
   "metadata": {},
   "outputs": [],
   "source": [
    "if not os.path.exists('Results/Vary_start_treatment/'):\n",
    "     os.makedirs('Results/Vary_start_treatment/') \n",
    "        \n",
    "# some global parameters\n",
    "clusters=3 #number of clusters\n",
    "cycle_time=35\n",
    "n_cycles=2\n",
    "\n",
    "# pre-defined parameters for treatment deltas, typical drug_dose\n",
    "drug_deltas=[1.4466, 8.3178, 39.9253]\n",
    "baseline_drug_dose=[381.90955, 1.19347, 1.90955]\n",
    "drug_dose=[381.90955, 1.19347, 1.90955]\n",
    "\n",
    "#other parameters\n",
    "nvar=OS_MAP_Functions().nvar # number of variables\n",
    "nparam=OS_MAP_Functions().nparam # number of parameters"
   ]
  },
  {
   "cell_type": "code",
   "execution_count": 3,
   "metadata": {},
   "outputs": [],
   "source": [
    "def infusion(start_treatment):\n",
    "    # create parameters for step function \n",
    "    A1infusion = [np.array([21, 127/6]),  np.array([28, 169/6])]\n",
    "    A2infusion = [np.array([0, 1/6]), np.array([1, 7/6])]\n",
    "    A3infusion = [np.array([0, 1/6]), np.array([1, 7/6])]\n",
    "    infusion_idx = np.concatenate([15*np.ones(n_cycles*len(A1infusion)), 16*np.ones(n_cycles*len(A2infusion)), \n",
    "                                   17*np.ones(n_cycles*len(A3infusion))]).astype(int)\n",
    "\n",
    "    infusion_vals = np.concatenate([(drug_dose[0]/baseline_drug_dose[0])*drug_deltas[0]/(A1infusion[0][1] - A1infusion[0][0])*np.ones(n_cycles*len(A1infusion)),\n",
    "                                    (drug_dose[1]/baseline_drug_dose[1])*drug_deltas[1]/(A2infusion[0][1] - A2infusion[0][0])*np.ones(n_cycles*len(A2infusion)),\n",
    "                                    (drug_dose[2]/baseline_drug_dose[2])*drug_deltas[2]/(A3infusion[0][1] - A3infusion[0][0])*np.ones(n_cycles*len(A3infusion))])\n",
    "\n",
    "    infusion_intervals = np.concatenate([[start_treatment+i*cycle_time+j for i in range(n_cycles) for j in A1infusion],\n",
    "                                         [start_treatment+i*cycle_time+j for i in range(n_cycles) for j in A2infusion],\n",
    "                                         [start_treatment+i*cycle_time+j for i in range(n_cycles) for j in A3infusion]])\n",
    "    \n",
    "    return infusion_idx, infusion_vals, infusion_intervals"
   ]
  },
  {
   "cell_type": "markdown",
   "metadata": {},
   "source": [
    "#### Plot cancer population after treatment with different treatment start times"
   ]
  },
  {
   "cell_type": "code",
   "execution_count": 7,
   "metadata": {},
   "outputs": [],
   "source": [
    "def plot_vary_start_treatment(start_treatments, tumor_size, IC, T, y_UB):\n",
    "    import matplotlib.pyplot as plt\n",
    "    from matplotlib.lines import Line2D\n",
    "    import seaborn as sns\n",
    "    \n",
    "    betas = [2.4780, 1.8328, 0.1467]\n",
    "    K_C = 0.9\n",
    "    K_immune = 0.6\n",
    "    a = 16\n",
    "    alphaNCA = 0.8\n",
    "    deltaCTcA3_scale = 1\n",
    "    \n",
    "    \n",
    "    fig, axs = plt.subplots(1, len(start_treatments), sharey=False, figsize=(18,3))\n",
    "    fig.subplots_adjust(wspace=0.3)\n",
    "    axs = axs.flatten()\n",
    "    t = np.linspace(0, T, 10*T+1)\n",
    "    plt.rcParams.update({'font.size': 12.5})\n",
    "    \n",
    "    palette = {0:'#3F9B0B', 1:'#FF796C', 2:'#0343DF'}\n",
    "    custom_lines = [Line2D([0], [0], color='#3F9B0B', lw=1.5),\n",
    "                    Line2D([0], [0], color='#FF796C', lw=1.5),\n",
    "                    Line2D([0], [0], color='#0343DF', lw=1.5)]\n",
    "    \n",
    "    for i, start_treatment in enumerate(start_treatments):\n",
    "        print(start_treatment)\n",
    "        infusion_idx, infusion_vals, infusion_intervals = infusion(start_treatment)\n",
    "        r= step_vector(nvar, indices=infusion_idx, intervals=infusion_intervals, values=infusion_vals)\n",
    "        \n",
    "        for cluster in range(3):\n",
    "            print(cluster)\n",
    "            QSP0=QSP.from_cell_data(clustercells[cluster], meanvals[cluster])\n",
    "            qspcore=OS_MAP_Functions(parameters=QSP0.par)\n",
    "            deltaCTcA3 = QSP0.par[37]*deltaCTcA3_scale\n",
    "\n",
    "            QSP_=QSP.from_data(([drug_deltas, betas, K_C, K_immune, a, alphaNCA, deltaCTcA3, baseline_drug_dose, \n",
    "                                 clustercells[cluster]]), qspcore=qspcore)\n",
    "\n",
    "            dynamic_df = pd.DataFrame(columns=['time (days)', 'Cluster']+QSP_.variable_names())\n",
    "            t = np.linspace(0, T, 10*T+1)\n",
    "            dynamic_df['time (days)'] = t\n",
    "            dynamic_df['Cluster'] = ['Cluster '+str(cluster+1)]*len(dynamic_df['time (days)'])\n",
    "\n",
    "            u, _ = QSP_.solve_ode(t, IC[cluster], 'given', inhomogeneity=r, jumps=True)\n",
    "            # Add last 3 equations scaling value\n",
    "            scale = np.concatenate([clustercells[cluster], np.array(baseline_drug_dose)/np.array(drug_deltas)])\n",
    "            u = scale*u\n",
    "            t_after = 730+start_treatment*10\n",
    "            print('Cancer after treatment: ', t_after, u[t_after][8])\n",
    "            \n",
    "            axs[i].margins(x=0)\n",
    "            axs[i].yaxis.major.formatter._useMathText = True\n",
    "            axs[i].plot(t, u[:,8], color=palette[cluster])\n",
    "            axs[i].set_ylim(bottom=0, top=y_UB)\n",
    "            axs[i].margins(y=0.2)\n",
    "\n",
    "        axs[i].set_xlabel('time (days)')\n",
    "        axs[i].set_ylabel('Cancer cells ($C$)')\n",
    "\n",
    "    axs[0].legend(custom_lines, ['Cluster 1', 'Cluster 2', 'Cluster 3'], bbox_to_anchor=(-0.24, 0.5), loc='center right')\n",
    "    \n",
    "    fig.savefig('Figures/Vary_start_treatment_'+tumor_size+'_IC.png', bbox_inches='tight') \n",
    "    fig.savefig('Figures/Vary_start_treatment_'+tumor_size+'_IC.eps', bbox_inches='tight') \n",
    "    fig.savefig('Figures/Vary_start_treatment_'+tumor_size+'_IC.pdf', bbox_inches='tight') \n",
    "    plt.show()"
   ]
  },
  {
   "cell_type": "markdown",
   "metadata": {},
   "source": [
    "#### Small tumors as initial conditions"
   ]
  },
  {
   "cell_type": "code",
   "execution_count": 5,
   "metadata": {},
   "outputs": [
    {
     "data": {
      "text/plain": [
       "array([[2.36704151e+00, 1.00548860e+00, 1.88661156e-02, 7.93731766e-01,\n",
       "        7.63946774e-01, 8.27810101e-01, 1.12204553e+00, 0.00000000e+00,\n",
       "        2.01212968e-02, 1.59566607e-01, 2.39369964e+00, 1.10363881e+00,\n",
       "        1.80579364e+00, 1.05943821e+00, 0.00000000e+00, 0.00000000e+00,\n",
       "        0.00000000e+00],\n",
       "       [9.87532470e-01, 1.20294276e+00, 6.14106164e-01, 3.17899812e-01,\n",
       "        2.69138566e+00, 1.82096094e+00, 7.26612875e-01, 0.00000000e+00,\n",
       "        1.91311656e-02, 3.99676182e-01, 3.53394278e+00, 1.14354090e+00,\n",
       "        1.43715069e+00, 1.11123637e+00, 0.00000000e+00, 0.00000000e+00,\n",
       "        0.00000000e+00],\n",
       "       [8.65774071e-01, 1.10352852e+00, 5.71933607e-01, 3.39615677e-01,\n",
       "        4.83925986e-01, 0.00000000e+00, 1.64261578e+00, 0.00000000e+00,\n",
       "        1.43906276e-02, 8.38059744e-04, 2.76466391e-01, 1.02991955e+00,\n",
       "        1.29642029e+00, 1.28390849e+00, 0.00000000e+00, 0.00000000e+00,\n",
       "        0.00000000e+00]])"
      ]
     },
     "execution_count": 5,
     "metadata": {},
     "output_type": "execute_result"
    }
   ],
   "source": [
    "small_IC=pd.read_csv('input/TARGET_nondimensional_initial_conditions.csv')\n",
    "small_IC.drop('Unnamed: 0', axis=1, inplace=True)\n",
    "small_IC = small_IC.to_numpy()\n",
    "# Add 0 as initial drug concentrations to IC\n",
    "small_IC = np.concatenate([small_IC, np.zeros((3,3))], axis=1)\n",
    "small_IC"
   ]
  },
  {
   "cell_type": "code",
   "execution_count": null,
   "metadata": {
    "scrolled": false
   },
   "outputs": [
    {
     "name": "stdout",
     "output_type": "stream",
     "text": [
      "7\n",
      "0\n"
     ]
    },
    {
     "name": "stderr",
     "output_type": "stream",
     "text": [
      "C:\\Users\\Trang Le\\Anaconda3\\lib\\site-packages\\scipy\\optimize\\minpack.py:175: RuntimeWarning: The iteration is not making good progress, as measured by the \n",
      "  improvement from the last ten iterations.\n",
      "  warnings.warn(msg, RuntimeWarning)\n"
     ]
    },
    {
     "name": "stdout",
     "output_type": "stream",
     "text": [
      "Cancer after treatment:  800 76402459.08996609\n",
      "1\n"
     ]
    }
   ],
   "source": [
    "plot_vary_start_treatment([7, 30, 90, 180], 'small', small_IC, 350, y_UB=2.2e+9)"
   ]
  },
  {
   "cell_type": "markdown",
   "metadata": {},
   "source": [
    "#### Medium tumors as initial conditions"
   ]
  },
  {
   "cell_type": "code",
   "execution_count": 8,
   "metadata": {},
   "outputs": [
    {
     "data": {
      "text/html": [
       "<div>\n",
       "<style scoped>\n",
       "    .dataframe tbody tr th:only-of-type {\n",
       "        vertical-align: middle;\n",
       "    }\n",
       "\n",
       "    .dataframe tbody tr th {\n",
       "        vertical-align: top;\n",
       "    }\n",
       "\n",
       "    .dataframe thead th {\n",
       "        text-align: right;\n",
       "    }\n",
       "</style>\n",
       "<table border=\"1\" class=\"dataframe\">\n",
       "  <thead>\n",
       "    <tr style=\"text-align: right;\">\n",
       "      <th></th>\n",
       "      <th>Mn</th>\n",
       "      <th>M</th>\n",
       "      <th>Tn</th>\n",
       "      <th>Th</th>\n",
       "      <th>Tr</th>\n",
       "      <th>Tc</th>\n",
       "      <th>Dn</th>\n",
       "      <th>D</th>\n",
       "      <th>C</th>\n",
       "      <th>N</th>\n",
       "      <th>Ig</th>\n",
       "      <th>mu1</th>\n",
       "      <th>mu2</th>\n",
       "      <th>H</th>\n",
       "      <th>Cluster</th>\n",
       "    </tr>\n",
       "    <tr>\n",
       "      <th>Unnamed: 0</th>\n",
       "      <th></th>\n",
       "      <th></th>\n",
       "      <th></th>\n",
       "      <th></th>\n",
       "      <th></th>\n",
       "      <th></th>\n",
       "      <th></th>\n",
       "      <th></th>\n",
       "      <th></th>\n",
       "      <th></th>\n",
       "      <th></th>\n",
       "      <th></th>\n",
       "      <th></th>\n",
       "      <th></th>\n",
       "      <th></th>\n",
       "    </tr>\n",
       "  </thead>\n",
       "  <tbody>\n",
       "    <tr>\n",
       "      <th>TARGET-40-0A4HLD</th>\n",
       "      <td>34722319.16</td>\n",
       "      <td>8.603081e+06</td>\n",
       "      <td>1.191137e+07</td>\n",
       "      <td>6.585836e+06</td>\n",
       "      <td>1.159015e+06</td>\n",
       "      <td>1.574469e+06</td>\n",
       "      <td>420744.0633</td>\n",
       "      <td>1.754688e+06</td>\n",
       "      <td>NaN</td>\n",
       "      <td>NaN</td>\n",
       "      <td>0.920293</td>\n",
       "      <td>30.230860</td>\n",
       "      <td>10.008177</td>\n",
       "      <td>5.153051</td>\n",
       "      <td>1</td>\n",
       "    </tr>\n",
       "    <tr>\n",
       "      <th>TARGET-40-0A4HMC</th>\n",
       "      <td>31258892.36</td>\n",
       "      <td>2.098196e+07</td>\n",
       "      <td>6.093952e+06</td>\n",
       "      <td>1.995128e+06</td>\n",
       "      <td>2.685176e+06</td>\n",
       "      <td>2.324501e+06</td>\n",
       "      <td>413314.7849</td>\n",
       "      <td>0.000000e+00</td>\n",
       "      <td>NaN</td>\n",
       "      <td>NaN</td>\n",
       "      <td>0.231310</td>\n",
       "      <td>23.827596</td>\n",
       "      <td>1.653993</td>\n",
       "      <td>5.337961</td>\n",
       "      <td>1</td>\n",
       "    </tr>\n",
       "    <tr>\n",
       "      <th>TARGET-40-0A4HX8</th>\n",
       "      <td>30996050.68</td>\n",
       "      <td>1.749005e+07</td>\n",
       "      <td>8.224196e+06</td>\n",
       "      <td>2.401357e+06</td>\n",
       "      <td>2.082830e+06</td>\n",
       "      <td>5.537368e+06</td>\n",
       "      <td>581007.0372</td>\n",
       "      <td>0.000000e+00</td>\n",
       "      <td>NaN</td>\n",
       "      <td>NaN</td>\n",
       "      <td>0.118360</td>\n",
       "      <td>21.778797</td>\n",
       "      <td>2.413981</td>\n",
       "      <td>5.286419</td>\n",
       "      <td>1</td>\n",
       "    </tr>\n",
       "    <tr>\n",
       "      <th>TARGET-40-0A4HXS</th>\n",
       "      <td>38114395.08</td>\n",
       "      <td>1.614895e+07</td>\n",
       "      <td>6.475678e+06</td>\n",
       "      <td>4.737582e+05</td>\n",
       "      <td>2.327004e+06</td>\n",
       "      <td>5.910068e+05</td>\n",
       "      <td>0.0000</td>\n",
       "      <td>0.000000e+00</td>\n",
       "      <td>NaN</td>\n",
       "      <td>NaN</td>\n",
       "      <td>0.111699</td>\n",
       "      <td>22.281144</td>\n",
       "      <td>2.132743</td>\n",
       "      <td>4.602700</td>\n",
       "      <td>1</td>\n",
       "    </tr>\n",
       "    <tr>\n",
       "      <th>TARGET-40-0A4HY5</th>\n",
       "      <td>44420404.14</td>\n",
       "      <td>9.428502e+06</td>\n",
       "      <td>1.308075e+07</td>\n",
       "      <td>1.000622e+05</td>\n",
       "      <td>3.088161e+05</td>\n",
       "      <td>0.000000e+00</td>\n",
       "      <td>0.0000</td>\n",
       "      <td>5.809818e+05</td>\n",
       "      <td>NaN</td>\n",
       "      <td>NaN</td>\n",
       "      <td>0.026163</td>\n",
       "      <td>30.262133</td>\n",
       "      <td>2.319897</td>\n",
       "      <td>4.919793</td>\n",
       "      <td>1</td>\n",
       "    </tr>\n",
       "  </tbody>\n",
       "</table>\n",
       "</div>"
      ],
      "text/plain": [
       "                           Mn             M            Tn            Th  \\\n",
       "Unnamed: 0                                                                \n",
       "TARGET-40-0A4HLD  34722319.16  8.603081e+06  1.191137e+07  6.585836e+06   \n",
       "TARGET-40-0A4HMC  31258892.36  2.098196e+07  6.093952e+06  1.995128e+06   \n",
       "TARGET-40-0A4HX8  30996050.68  1.749005e+07  8.224196e+06  2.401357e+06   \n",
       "TARGET-40-0A4HXS  38114395.08  1.614895e+07  6.475678e+06  4.737582e+05   \n",
       "TARGET-40-0A4HY5  44420404.14  9.428502e+06  1.308075e+07  1.000622e+05   \n",
       "\n",
       "                            Tr            Tc           Dn             D   C  \\\n",
       "Unnamed: 0                                                                    \n",
       "TARGET-40-0A4HLD  1.159015e+06  1.574469e+06  420744.0633  1.754688e+06 NaN   \n",
       "TARGET-40-0A4HMC  2.685176e+06  2.324501e+06  413314.7849  0.000000e+00 NaN   \n",
       "TARGET-40-0A4HX8  2.082830e+06  5.537368e+06  581007.0372  0.000000e+00 NaN   \n",
       "TARGET-40-0A4HXS  2.327004e+06  5.910068e+05       0.0000  0.000000e+00 NaN   \n",
       "TARGET-40-0A4HY5  3.088161e+05  0.000000e+00       0.0000  5.809818e+05 NaN   \n",
       "\n",
       "                   N        Ig        mu1        mu2         H  Cluster  \n",
       "Unnamed: 0                                                               \n",
       "TARGET-40-0A4HLD NaN  0.920293  30.230860  10.008177  5.153051        1  \n",
       "TARGET-40-0A4HMC NaN  0.231310  23.827596   1.653993  5.337961        1  \n",
       "TARGET-40-0A4HX8 NaN  0.118360  21.778797   2.413981  5.286419        1  \n",
       "TARGET-40-0A4HXS NaN  0.111699  22.281144   2.132743  4.602700        1  \n",
       "TARGET-40-0A4HY5 NaN  0.026163  30.262133   2.319897  4.919793        1  "
      ]
     },
     "execution_count": 8,
     "metadata": {},
     "output_type": "execute_result"
    }
   ],
   "source": [
    "cols = ['Mn','M','Tn','Th','Tr','Tc','Dn','D', 'C', 'N', 'Ig', 'mu1', 'mu2', 'H', 'Cluster']\n",
    "\n",
    "dat = pd.read_csv('input/TARGET_all_patients_data.csv')\n",
    "dat.set_index('Unnamed: 0', inplace=True)\n",
    "dat = dat[cols]\n",
    "dat['Cluster'] = dat['Cluster'].apply(lambda x: int(x.split()[-1]) - 1)\n",
    "dat.head()"
   ]
  },
  {
   "cell_type": "code",
   "execution_count": 9,
   "metadata": {},
   "outputs": [
    {
     "name": "stdout",
     "output_type": "stream",
     "text": [
      "0 6898651374.0\n",
      "1 6956470086.953256\n",
      "2 5048699653.61\n"
     ]
    }
   ],
   "source": [
    "med_IC = np.empty((3,14))\n",
    "for c in range(3):\n",
    "    cluster_data = dat[dat.Cluster==c][dat.columns[:-1]]\n",
    "    med_IC[c] = cluster_data.mean()\n",
    "    print(c, med_IC[c][8])"
   ]
  },
  {
   "cell_type": "code",
   "execution_count": 10,
   "metadata": {
    "scrolled": true
   },
   "outputs": [
    {
     "name": "stdout",
     "output_type": "stream",
     "text": [
      "0 [2.80050327 0.91652038 1.42027592 0.52375538 0.69574304 0.49029249\n",
      " 1.02024845 0.55901079 0.51361175 0.79647017 0.65496745 1.11992939\n",
      " 1.16379098 0.99246719]\n",
      "1 [1.00656314 0.93369284 0.98488638 0.96027687 1.45595791 2.15171979\n",
      " 0.82022109 0.48773386 0.4337375  1.15243188 1.61858183 1.15704817\n",
      " 1.3147215  0.99611916]\n",
      "2 [1.27958286 0.98174536 0.72746934 1.01462199 0.90605062 0.58394159\n",
      " 1.12483177 0.44319224 0.37686743 0.32670906 0.28975139 1.02107504\n",
      " 1.43499545 1.07422225]\n",
      "[[2.80050327 0.91652038 1.42027592 0.52375538 0.69574304 0.49029249\n",
      "  1.02024845 0.55901079 0.51361175 0.79647017 0.65496745 1.11992939\n",
      "  1.16379098 0.99246719 0.         0.         0.        ]\n",
      " [1.00656314 0.93369284 0.98488638 0.96027687 1.45595791 2.15171979\n",
      "  0.82022109 0.48773386 0.4337375  1.15243188 1.61858183 1.15704817\n",
      "  1.3147215  0.99611916 0.         0.         0.        ]\n",
      " [1.27958286 0.98174536 0.72746934 1.01462199 0.90605062 0.58394159\n",
      "  1.12483177 0.44319224 0.37686743 0.32670906 0.28975139 1.02107504\n",
      "  1.43499545 1.07422225 0.         0.         0.        ]]\n"
     ]
    }
   ],
   "source": [
    "med_IC = np.empty((3,14))\n",
    "for c in range(3):\n",
    "    cluster_data = dat[dat.Cluster==c][dat.columns[:-1]]\n",
    "    med_IC[c] = cluster_data.mean()/clustercells[c]\n",
    "    print(c, med_IC[c])\n",
    "    \n",
    "med_IC = np.concatenate([med_IC, np.zeros((3,3))], axis=1)\n",
    "print(med_IC)"
   ]
  },
  {
   "cell_type": "code",
   "execution_count": 12,
   "metadata": {
    "scrolled": true
   },
   "outputs": [
    {
     "name": "stdout",
     "output_type": "stream",
     "text": [
      "7\n",
      "0\n"
     ]
    },
    {
     "name": "stderr",
     "output_type": "stream",
     "text": [
      "C:\\Users\\Trang Le\\Anaconda3\\lib\\site-packages\\scipy\\optimize\\minpack.py:175: RuntimeWarning: The iteration is not making good progress, as measured by the \n",
      "  improvement from the last ten iterations.\n",
      "  warnings.warn(msg, RuntimeWarning)\n"
     ]
    },
    {
     "name": "stdout",
     "output_type": "stream",
     "text": [
      "Cancer after treatment:  800 1411630737.581463\n",
      "1\n",
      "Cancer after treatment:  800 1269903780.6830637\n",
      "2\n",
      "Cancer after treatment:  800 754525004.4542135\n",
      "30\n",
      "0\n"
     ]
    },
    {
     "name": "stderr",
     "output_type": "stream",
     "text": [
      "C:\\Users\\Trang Le\\Anaconda3\\lib\\site-packages\\scipy\\optimize\\minpack.py:175: RuntimeWarning: The iteration is not making good progress, as measured by the \n",
      "  improvement from the last ten iterations.\n",
      "  warnings.warn(msg, RuntimeWarning)\n"
     ]
    },
    {
     "name": "stdout",
     "output_type": "stream",
     "text": [
      "Cancer after treatment:  1030 1531642688.4399633\n",
      "1\n",
      "Cancer after treatment:  1030 1367001503.9190092\n",
      "2\n",
      "Cancer after treatment:  1030 802427235.3662935\n",
      "90\n",
      "0\n"
     ]
    },
    {
     "name": "stderr",
     "output_type": "stream",
     "text": [
      "C:\\Users\\Trang Le\\Anaconda3\\lib\\site-packages\\scipy\\optimize\\minpack.py:175: RuntimeWarning: The iteration is not making good progress, as measured by the \n",
      "  improvement from the last ten iterations.\n",
      "  warnings.warn(msg, RuntimeWarning)\n"
     ]
    },
    {
     "name": "stdout",
     "output_type": "stream",
     "text": [
      "Cancer after treatment:  1630 1814136466.9496105\n",
      "1\n",
      "Cancer after treatment:  1630 1595587140.0950372\n",
      "2\n",
      "Cancer after treatment:  1630 919473566.1944082\n",
      "180\n",
      "0\n"
     ]
    },
    {
     "name": "stderr",
     "output_type": "stream",
     "text": [
      "C:\\Users\\Trang Le\\Anaconda3\\lib\\site-packages\\scipy\\optimize\\minpack.py:175: RuntimeWarning: The iteration is not making good progress, as measured by the \n",
      "  improvement from the last ten iterations.\n",
      "  warnings.warn(msg, RuntimeWarning)\n"
     ]
    },
    {
     "name": "stdout",
     "output_type": "stream",
     "text": [
      "Cancer after treatment:  2530 2115378706.2906344\n",
      "1\n",
      "Cancer after treatment:  2530 1898794173.6734233\n",
      "2\n",
      "Cancer after treatment:  2530 1086106057.1220598\n"
     ]
    },
    {
     "name": "stderr",
     "output_type": "stream",
     "text": [
      "The PostScript backend does not support transparency; partially transparent artists will be rendered opaque.\n",
      "The PostScript backend does not support transparency; partially transparent artists will be rendered opaque.\n"
     ]
    },
    {
     "data": {
      "image/png": "[encoded data removed]",
      "text/plain": [
       "<Figure size 1296x216 with 4 Axes>"
      ]
     },
     "metadata": {},
     "output_type": "display_data"
    }
   ],
   "source": [
    "plot_vary_start_treatment([7, 30, 90, 180], 'medium', med_IC, 350, y_UB=1.3e+10)"
   ]
  },
  {
   "cell_type": "markdown",
   "metadata": {},
   "source": [
    "#### Large tumors as initial conditions"
   ]
  },
  {
   "cell_type": "code",
   "execution_count": 13,
   "metadata": {
    "scrolled": true
   },
   "outputs": [
    {
     "name": "stdout",
     "output_type": "stream",
     "text": [
      "7\n",
      "0\n"
     ]
    },
    {
     "name": "stderr",
     "output_type": "stream",
     "text": [
      "C:\\Users\\Trang Le\\Anaconda3\\lib\\site-packages\\scipy\\optimize\\minpack.py:175: RuntimeWarning: The iteration is not making good progress, as measured by the \n",
      "  improvement from the last ten iterations.\n",
      "  warnings.warn(msg, RuntimeWarning)\n"
     ]
    },
    {
     "name": "stdout",
     "output_type": "stream",
     "text": [
      "Cancer after treatment:  800 2443836744.2144074\n",
      "1\n",
      "Cancer after treatment:  800 2603327887.331453\n",
      "2\n",
      "Cancer after treatment:  800 1873067364.2396274\n",
      "30\n",
      "0\n"
     ]
    },
    {
     "name": "stderr",
     "output_type": "stream",
     "text": [
      "C:\\Users\\Trang Le\\Anaconda3\\lib\\site-packages\\scipy\\optimize\\minpack.py:175: RuntimeWarning: The iteration is not making good progress, as measured by the \n",
      "  improvement from the last ten iterations.\n",
      "  warnings.warn(msg, RuntimeWarning)\n"
     ]
    },
    {
     "name": "stdout",
     "output_type": "stream",
     "text": [
      "Cancer after treatment:  1030 2442660526.616921\n",
      "1\n",
      "Cancer after treatment:  1030 2603926565.529454\n",
      "2\n",
      "Cancer after treatment:  1030 1868136382.425985\n",
      "90\n",
      "0\n"
     ]
    },
    {
     "name": "stderr",
     "output_type": "stream",
     "text": [
      "C:\\Users\\Trang Le\\Anaconda3\\lib\\site-packages\\scipy\\optimize\\minpack.py:175: RuntimeWarning: The iteration is not making good progress, as measured by the \n",
      "  improvement from the last ten iterations.\n",
      "  warnings.warn(msg, RuntimeWarning)\n"
     ]
    },
    {
     "name": "stdout",
     "output_type": "stream",
     "text": [
      "Cancer after treatment:  1630 2443647081.236478\n",
      "1\n",
      "Cancer after treatment:  1630 2599508471.6008697\n",
      "2\n",
      "Cancer after treatment:  1630 1865166629.738729\n",
      "180\n",
      "0\n"
     ]
    },
    {
     "name": "stderr",
     "output_type": "stream",
     "text": [
      "C:\\Users\\Trang Le\\Anaconda3\\lib\\site-packages\\scipy\\optimize\\minpack.py:175: RuntimeWarning: The iteration is not making good progress, as measured by the \n",
      "  improvement from the last ten iterations.\n",
      "  warnings.warn(msg, RuntimeWarning)\n"
     ]
    },
    {
     "name": "stdout",
     "output_type": "stream",
     "text": [
      "Cancer after treatment:  2530 2435813825.3614907\n",
      "1\n",
      "Cancer after treatment:  2530 2595772204.6654334\n",
      "2\n",
      "Cancer after treatment:  2530 1868301880.9204216\n"
     ]
    },
    {
     "name": "stderr",
     "output_type": "stream",
     "text": [
      "The PostScript backend does not support transparency; partially transparent artists will be rendered opaque.\n",
      "The PostScript backend does not support transparency; partially transparent artists will be rendered opaque.\n"
     ]
    },
    {
     "data": {
      "image/png": "[encoded data removed]",
      "text/plain": [
       "<Figure size 1296x216 with 4 Axes>"
      ]
     },
     "metadata": {},
     "output_type": "display_data"
    }
   ],
   "source": [
    "large_IC = np.ones((clusters,nvar))\n",
    "large_IC[:,-3:] = 0\n",
    "\n",
    "plot_vary_start_treatment([7, 30, 90, 180], 'large', large_IC, 350, y_UB=1.7e+10)"
   ]
  },
  {
   "cell_type": "code",
   "execution_count": null,
   "metadata": {},
   "outputs": [],
   "source": []
  }
 ],
 "metadata": {
  "kernelspec": {
   "display_name": "Python 3",
   "language": "python",
   "name": "python3"
  },
  "language_info": {
   "codemirror_mode": {
    "name": "ipython",
    "version": 3
   },
   "file_extension": ".py",
   "mimetype": "text/x-python",
   "name": "python",
   "nbconvert_exporter": "python",
   "pygments_lexer": "ipython3",
   "version": "3.6.4"
  }
 },
 "nbformat": 4,
 "nbformat_minor": 2
}
